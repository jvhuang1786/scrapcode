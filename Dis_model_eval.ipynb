{
 "cells": [
  {
   "cell_type": "code",
   "execution_count": 1,
   "metadata": {},
   "outputs": [
    {
     "name": "stderr",
     "output_type": "stream",
     "text": [
      "Using TensorFlow backend.\n"
     ]
    }
   ],
   "source": [
    "import pandas as pd\n",
    "import numpy as np\n",
    "from matplotlib import pyplot as plt\n",
    "import seaborn as sns\n",
    "import spacy\n",
    "import time\n",
    "from collections import Counter\n",
    "from imblearn.over_sampling import RandomOverSampler\n",
    "import gensim\n",
    "\n",
    "\n",
    "from sklearn.metrics import precision_recall_fscore_support \n",
    "from sklearn.feature_extraction.text import CountVectorizer, TfidfVectorizer, ENGLISH_STOP_WORDS\n",
    "from sklearn.model_selection import train_test_split\n",
    "from sklearn import metrics\n",
    "from sklearn.ensemble import RandomForestClassifier, GradientBoostingClassifier\n",
    "from sklearn.linear_model import LogisticRegression\n",
    "from sklearn.naive_bayes import MultinomialNB\n"
   ]
  },
  {
   "cell_type": "code",
   "execution_count": 2,
   "metadata": {},
   "outputs": [],
   "source": [
    "df = pd.read_json('DiSmldata.json')"
   ]
  },
  {
   "cell_type": "code",
   "execution_count": 3,
   "metadata": {},
   "outputs": [
    {
     "data": {
      "image/png": "[encoded data removed]",
      "text/plain": [
       "<Figure size 1440x504 with 1 Axes>"
      ]
     },
     "metadata": {
      "needs_background": "light"
     },
     "output_type": "display_data"
    }
   ],
   "source": [
    "f, axes = plt.subplots(figsize=(20,7))\n",
    "ax = sns.countplot(x=df[\"label\"], palette=\"OrRd_r\")\n",
    "ax.set(title=\"Distribution of Product Ratings\", \\\n",
    "       xlabel=\"Sentiment\", ylabel=\"Sentiment Count\")\n",
    "plt.show()"
   ]
  },
  {
   "cell_type": "code",
   "execution_count": 82,
   "metadata": {},
   "outputs": [],
   "source": [
    "my_stop_words = ENGLISH_STOP_WORDS.union(['disneyland','tokyo','disney', 'im', 'tdrnow','paris','california','amp','disneysea','got',\n",
    "                                         'ºc', 'ºf', 'ºoº','𝗧𝗵𝗲','くまのプーさん', 'ディズニー', 'ディズニーシー','ディズニーハロウィーン',\n",
    "                                         'ディズニーランド', 'ディズニー好きと繋がりたい', 'フェスティバルオブミスティーク', 'マルマン',\n",
    "                                         'ㅋㅋㅋ', '場所', '更新', '月released', '東京ディズニーシー', '東京ディズニーランド', '東京ディズニーリゾート',\n",
    "                                         '香港迪士尼樂園', 'ºº', 'hong', 'kong',\"disneylandresort\", \"disneyland\", \"disneyresort\",\n",
    "                                          \"californiaadventure\",'downtowndisney','disneyanaheim','disneylandanaheim',\n",
    "                                          'disneycalifornia','californiadisney','disneysea', 'disneytokyo', 'disneytokyoresort', \n",
    "                                          'tokyodisney','tokyodisneyresort', 'tokyodisneyland','東京ディズニーランド', 'ディズニーランド',\n",
    "                                          '東京ディズニーシー', 'ズニーシー', 'tdr_now', 'tdr_md','tdr','dca','dl'])"
   ]
  },
  {
   "cell_type": "code",
   "execution_count": 5,
   "metadata": {},
   "outputs": [],
   "source": [
    "#Split into train and test \n",
    "X_train, X_test, y_train, y_test = train_test_split(df[['hash_count', 'emoji_count','clean_text',\n",
    "                                                        'anger','anticipation','disgust','fear',\n",
    "                                                       'joy', 'sadness', 'surprise', 'trust', 'punc_count',\n",
    "                                                       'tweet_len','cap_count']], df['label'],test_size =0.20, random_state = 77)"
   ]
  },
  {
   "cell_type": "code",
   "execution_count": 40,
   "metadata": {},
   "outputs": [],
   "source": [
    "#Count vectorizer Document term matrix\n",
    "count_vect = CountVectorizer(stop_words = my_stop_words, min_df = 3, max_df = 50)\n",
    "count_vect_fit = count_vect.fit(X_train['clean_text'])\n",
    "\n",
    "count_train = count_vect_fit.transform(X_train['clean_text'])\n",
    "count_test = count_vect_fit.transform(X_test['clean_text'])\n",
    "\n",
    "X_train_vect = pd.concat([X_train[['hash_count', 'emoji_count', 'anger','anticipation','disgust','fear',\n",
    "                                                       'joy', 'sadness', 'surprise', 'trust', 'punc_count',\n",
    "                                                       'tweet_len','cap_count']].reset_index(drop=True), \n",
    "           pd.DataFrame(count_train.toarray())], axis=1)\n",
    "X_test_vect = pd.concat([X_test[['hash_count', 'emoji_count', 'anger','anticipation','disgust','fear',\n",
    "                                                       'joy', 'sadness', 'surprise', 'trust', 'punc_count',\n",
    "                                                       'tweet_len','cap_count']].reset_index(drop=True), \n",
    "           pd.DataFrame(count_test.toarray())], axis=1)"
   ]
  },
  {
   "cell_type": "code",
   "execution_count": 41,
   "metadata": {},
   "outputs": [
    {
     "data": {
      "text/plain": [
       "(70008, 12029)"
      ]
     },
     "execution_count": 41,
     "metadata": {},
     "output_type": "execute_result"
    }
   ],
   "source": [
    "X_train_vect.shape"
   ]
  },
  {
   "cell_type": "code",
   "execution_count": 44,
   "metadata": {},
   "outputs": [
    {
     "name": "stdout",
     "output_type": "stream",
     "text": [
      "[(0, 23522), (1, 23522), (2, 23522), (3, 23522), (4, 23522), (5, 23522)]\n"
     ]
    }
   ],
   "source": [
    "#Balance the Data \n",
    "ros = RandomOverSampler(random_state=77)\n",
    "X_resampled_ros, y_resampled_ros = ros.fit_resample(X_train_vect.values, y_train.values)\n",
    "print(sorted(Counter(y_resampled_ros).items()))"
   ]
  },
  {
   "cell_type": "code",
   "execution_count": 45,
   "metadata": {},
   "outputs": [
    {
     "name": "stdout",
     "output_type": "stream",
     "text": [
      "[(0, 5982), (1, 5982), (2, 5982), (3, 5982), (4, 5982), (5, 5982)]\n"
     ]
    }
   ],
   "source": [
    "X_resampled_ros_test, y_resampled_ros_test = ros.fit_resample(X_test_vect.values, y_test.values)\n",
    "print(sorted(Counter(y_resampled_ros_test).items()))"
   ]
  },
  {
   "cell_type": "code",
   "execution_count": 48,
   "metadata": {},
   "outputs": [
    {
     "name": "stdout",
     "output_type": "stream",
     "text": [
      "Fit time: 719.459 / Predict time: 5.263 ---- Precision: 0.528 / Recall: 0.493 / Accuracy: 0.493\n"
     ]
    }
   ],
   "source": [
    "#Random Forest\n",
    "\n",
    "#Instantiate our model \n",
    "rf = RandomForestClassifier(n_estimators=50, max_depth=1000, n_jobs=-1)\n",
    "\n",
    "#Model Fit \n",
    "start = time.time()\n",
    "rf.fit(X_resampled_ros, y_resampled_ros)\n",
    "end = time.time()\n",
    "fit_time = (end - start)\n",
    "\n",
    "#Model Predict \n",
    "start = time.time()\n",
    "y_pred = rf.predict(X_resampled_ros_test)\n",
    "end = time.time()\n",
    "pred_time = (end - start)\n",
    "\n",
    "#Model Scoring \n",
    "precision, recall, fscore, support = precision_recall_fscore_support(y_resampled_ros_test, y_pred, average='macro')\n",
    "print('Fit time: {} / Predict time: {} ---- Precision: {} / Recall: {} / Accuracy: {}'.format(\n",
    "    round(fit_time, 3), round(pred_time, 3), round(precision, 3), round(recall, 3), round((y_pred==y_resampled_ros_test).sum()/len(y_pred), 3)))"
   ]
  },
  {
   "cell_type": "code",
   "execution_count": 50,
   "metadata": {},
   "outputs": [
    {
     "data": {
      "text/plain": [
       "[(0.1355676226213802, 'tweet_len'),\n",
       " (0.06981465925893084, 'cap_count'),\n",
       " (0.06160885541980688, 'punc_count'),\n",
       " (0.04983365735000892, 'hash_count'),\n",
       " (0.02588826210923301, 'joy'),\n",
       " (0.02482664727491569, 'sadness'),\n",
       " (0.022244452728189482, 'emoji_count'),\n",
       " (0.019968127916541976, 'fear'),\n",
       " (0.018719362934182426, 'anticipation'),\n",
       " (0.01675342786142678, 'anger'),\n",
       " (0.015328056959726938, 'disgust'),\n",
       " (0.01524454533328769, 'trust'),\n",
       " (0.011318434836613203, 'surprise'),\n",
       " (0.0008697401680626791, 3638),\n",
       " (0.0008291998036010272, 6213),\n",
       " (0.0008277462158314285, 10826),\n",
       " (0.0008061685178150136, 10052),\n",
       " (0.0007768196630855878, 2632),\n",
       " (0.0007207657655482084, 7524),\n",
       " (0.0007068535968719075, 2360)]"
      ]
     },
     "execution_count": 50,
     "metadata": {},
     "output_type": "execute_result"
    }
   ],
   "source": [
    "#Random Forest tells our Feature Importances\n",
    "importances = rf.feature_importances_\n",
    "(sorted(zip(importances, X_train_vect.columns), reverse=True))[0:20]"
   ]
  },
  {
   "cell_type": "code",
   "execution_count": 51,
   "metadata": {},
   "outputs": [
    {
     "name": "stdout",
     "output_type": "stream",
     "text": [
      "Fit time: 596.526 / Predict time: 6.169 ---- Precision: 0.494 / Recall: 0.491 / Accuracy: 0.491\n"
     ]
    }
   ],
   "source": [
    "#Multinomial Bayes\n",
    "\n",
    "#Instantiate our model \n",
    "nb_clf = MultinomialNB()\n",
    "\n",
    "#Train our Model \n",
    "start = time.time()\n",
    "nb_clf.fit(X_resampled_ros, y_resampled_ros)\n",
    "end = time.time()\n",
    "fit_time = (end - start)\n",
    "\n",
    "#Model Predict \n",
    "start = time.time()\n",
    "y_pred = nb_clf.predict(X_resampled_ros_test)\n",
    "end = time.time()\n",
    "pred_time = (end - start)\n",
    "\n",
    "#Model Scoring \n",
    "precision, recall, fscore, support = precision_recall_fscore_support(y_resampled_ros_test, y_pred, average='macro')\n",
    "print('Fit time: {} / Predict time: {} ---- Precision: {} / Recall: {} / Accuracy: {}'.format(\n",
    "    round(fit_time, 3), round(pred_time, 3), round(precision, 3), \n",
    "    round(recall, 3), round((y_pred==y_resampled_ros_test).sum()/len(y_pred), 3)))"
   ]
  },
  {
   "cell_type": "code",
   "execution_count": 52,
   "metadata": {},
   "outputs": [
    {
     "name": "stderr",
     "output_type": "stream",
     "text": [
      "/Users/justin/anaconda3/lib/python3.7/site-packages/sklearn/linear_model/_logistic.py:940: ConvergenceWarning: lbfgs failed to converge (status=1):\n",
      "STOP: TOTAL NO. of ITERATIONS REACHED LIMIT.\n",
      "\n",
      "Increase the number of iterations (max_iter) or scale the data as shown in:\n",
      "    https://scikit-learn.org/stable/modules/preprocessing.html\n",
      "Please also refer to the documentation for alternative solver options:\n",
      "    https://scikit-learn.org/stable/modules/linear_model.html#logistic-regression\n",
      "  extra_warning_msg=_LOGISTIC_SOLVER_CONVERGENCE_MSG)\n"
     ]
    },
    {
     "name": "stdout",
     "output_type": "stream",
     "text": [
      "Fit time: 861.007 / Predict time: 3.461 ---- Precision: 0.42 / Recall: 0.414 / Accuracy: 0.414\n"
     ]
    }
   ],
   "source": [
    "#Logistic Regression \n",
    "\n",
    "#Instantiate our model\n",
    "lr = LogisticRegression(max_iter = 100, solver = 'lbfgs')\n",
    "\n",
    "#Train our Model\n",
    "start = time.time()\n",
    "lr.fit(X_resampled_ros, y_resampled_ros)\n",
    "end = time.time()\n",
    "fit_time = (end - start)\n",
    "\n",
    "#Model Predict \n",
    "start = time.time()\n",
    "y_pred = lr.predict(X_resampled_ros_test)\n",
    "end = time.time()\n",
    "pred_time = (end - start)\n",
    "\n",
    "#Model Scoring \n",
    "precision, recall, fscore, support = precision_recall_fscore_support(y_resampled_ros_test, y_pred, average='macro')\n",
    "print('Fit time: {} / Predict time: {} ---- Precision: {} / Recall: {} / Accuracy: {}'.format(\n",
    "    round(fit_time, 3), round(pred_time, 3), round(precision, 3), round(recall, 3), \n",
    "    round((y_pred==y_resampled_ros_test).sum()/len(y_pred), 3)))"
   ]
  },
  {
   "cell_type": "markdown",
   "metadata": {},
   "source": [
    "#### TFIDF"
   ]
  },
  {
   "cell_type": "code",
   "execution_count": 6,
   "metadata": {},
   "outputs": [],
   "source": [
    "#TFIDF vector DTM\n",
    "tfidf_vect = TfidfVectorizer(stop_words = my_stop_words, min_df = 3, max_df = 50)\n",
    "tfidf_vect_fit = tfidf_vect.fit(X_train['clean_text'])\n",
    "\n",
    "tfidf_train = tfidf_vect_fit.transform(X_train['clean_text'])\n",
    "tfidf_test = tfidf_vect_fit.transform(X_test['clean_text'])\n",
    "\n",
    "X_train_vect_tf = pd.concat([X_train[['hash_count', 'emoji_count', 'anger','anticipation','disgust','fear',\n",
    "                                                       'joy', 'sadness', 'surprise', 'trust', 'punc_count',\n",
    "                                                       'tweet_len','cap_count']].reset_index(drop=True), \n",
    "           pd.DataFrame(tfidf_train.toarray())], axis=1)\n",
    "X_test_vect_tf = pd.concat([X_test[['hash_count', 'emoji_count', 'anger','anticipation','disgust','fear',\n",
    "                                                       'joy', 'sadness', 'surprise', 'trust', 'punc_count',\n",
    "                                                       'tweet_len','cap_count']].reset_index(drop=True), \n",
    "           pd.DataFrame(tfidf_test.toarray())], axis=1)"
   ]
  },
  {
   "cell_type": "code",
   "execution_count": 55,
   "metadata": {},
   "outputs": [
    {
     "data": {
      "text/plain": [
       "(70008, 12029)"
      ]
     },
     "execution_count": 55,
     "metadata": {},
     "output_type": "execute_result"
    }
   ],
   "source": [
    "X_train_vect_tf.shape"
   ]
  },
  {
   "cell_type": "code",
   "execution_count": 8,
   "metadata": {},
   "outputs": [
    {
     "name": "stdout",
     "output_type": "stream",
     "text": [
      "[(0, 23522), (1, 23522), (2, 23522), (3, 23522), (4, 23522), (5, 23522)]\n"
     ]
    }
   ],
   "source": [
    "#Balance the Data \n",
    "ros = RandomOverSampler(random_state=77) \n",
    "X_resampled_ros_tf, y_resampled_ros_tf = ros.fit_resample(X_train_vect_tf.values, y_train.values)\n",
    "print(sorted(Counter(y_resampled_ros_tf).items()))"
   ]
  },
  {
   "cell_type": "code",
   "execution_count": 9,
   "metadata": {},
   "outputs": [
    {
     "name": "stdout",
     "output_type": "stream",
     "text": [
      "[(0, 5982), (1, 5982), (2, 5982), (3, 5982), (4, 5982), (5, 5982)]\n"
     ]
    }
   ],
   "source": [
    "X_resampled_ros_test_tf, y_resampled_ros_test_tf = ros.fit_resample(X_test_vect_tf.values, y_test.values)\n",
    "print(sorted(Counter(y_resampled_ros_test_tf).items()))"
   ]
  },
  {
   "cell_type": "code",
   "execution_count": 10,
   "metadata": {},
   "outputs": [
    {
     "name": "stdout",
     "output_type": "stream",
     "text": [
      "Fit time: 712.098 / Predict time: 7.252 ---- Precision: 0.526 / Recall: 0.491 / Accuracy: 0.491\n"
     ]
    }
   ],
   "source": [
    "#Random Forest\n",
    "\n",
    "#Instantiate our model \n",
    "rf = RandomForestClassifier(n_estimators=50, max_depth=1000, n_jobs=-1)\n",
    "\n",
    "#Model Fit \n",
    "start = time.time()\n",
    "rf.fit(X_resampled_ros_tf, y_resampled_ros_tf)\n",
    "end = time.time()\n",
    "fit_time = (end - start)\n",
    "\n",
    "#Model Predict \n",
    "start = time.time()\n",
    "y_pred = rf.predict(X_resampled_ros_test_tf)\n",
    "end = time.time()\n",
    "pred_time = (end - start)\n",
    "\n",
    "#Model Scoring \n",
    "precision, recall, fscore, support = precision_recall_fscore_support(y_resampled_ros_test_tf, y_pred, average='macro')\n",
    "print('Fit time: {} / Predict time: {} ---- Precision: {} / Recall: {} / Accuracy: {}'.format(\n",
    "    round(fit_time, 3), round(pred_time, 3), round(precision, 3), round(recall, 3), round((y_pred==y_resampled_ros_test_tf).sum()/len(y_pred), 3)))"
   ]
  },
  {
   "cell_type": "code",
   "execution_count": 12,
   "metadata": {},
   "outputs": [
    {
     "data": {
      "text/plain": [
       "[(0.13348286106624357, 'tweet_len'),\n",
       " (0.06675093458904073, 'cap_count'),\n",
       " (0.06187580467148789, 'punc_count'),\n",
       " (0.0499041330696658, 'hash_count'),\n",
       " (0.026270729450527608, 'joy'),\n",
       " (0.025620086296029947, 'sadness'),\n",
       " (0.021539711901196627, 'emoji_count'),\n",
       " (0.02129386218552071, 'fear'),\n",
       " (0.018340592860136274, 'anticipation'),\n",
       " (0.014659223551072288, 'trust'),\n",
       " (0.014280392810640028, 'anger'),\n",
       " (0.014154633767097847, 'disgust'),\n",
       " (0.010524613610567531, 'surprise'),\n",
       " (0.0008712632223012992, 6213),\n",
       " (0.0008554590915700229, 10052),\n",
       " (0.0008364796935487842, 2360),\n",
       " (0.0008124037843868159, 7524),\n",
       " (0.0008037226752877644, 2632),\n",
       " (0.000754955124494401, 5147),\n",
       " (0.0007525454628223672, 3638)]"
      ]
     },
     "execution_count": 12,
     "metadata": {},
     "output_type": "execute_result"
    }
   ],
   "source": [
    "#Random Forest tells our Feature Importances\n",
    "importances = rf.feature_importances_\n",
    "(sorted(zip(importances, X_train_vect_tf.columns), reverse=True))[0:20]"
   ]
  },
  {
   "cell_type": "code",
   "execution_count": 13,
   "metadata": {},
   "outputs": [
    {
     "name": "stdout",
     "output_type": "stream",
     "text": [
      "Fit time: 32.631 / Predict time: 3.374 ---- Precision: 0.481 / Recall: 0.48 / Accuracy: 0.48\n"
     ]
    }
   ],
   "source": [
    "#Multinomial Bayes\n",
    "\n",
    "#Instantiate our model \n",
    "nb_clf = MultinomialNB()\n",
    "\n",
    "#Train our Model \n",
    "start = time.time()\n",
    "nb_clf.fit(X_resampled_ros_tf, y_resampled_ros_tf)\n",
    "end = time.time()\n",
    "fit_time = (end - start)\n",
    "\n",
    "#Model Predict \n",
    "start = time.time()\n",
    "y_pred = nb_clf.predict(X_resampled_ros_test_tf)\n",
    "end = time.time()\n",
    "pred_time = (end - start)\n",
    "\n",
    "#Model Scoring \n",
    "precision, recall, fscore, support = precision_recall_fscore_support(y_resampled_ros_test_tf, y_pred, average='macro')\n",
    "print('Fit time: {} / Predict time: {} ---- Precision: {} / Recall: {} / Accuracy: {}'.format(\n",
    "    round(fit_time, 3), round(pred_time, 3), round(precision, 3), round(recall, 3), round((y_pred==y_resampled_ros_test_tf).sum()/len(y_pred), 3)))"
   ]
  },
  {
   "cell_type": "code",
   "execution_count": 14,
   "metadata": {},
   "outputs": [
    {
     "name": "stderr",
     "output_type": "stream",
     "text": [
      "/Users/justin/anaconda3/lib/python3.7/site-packages/sklearn/linear_model/_logistic.py:940: ConvergenceWarning: lbfgs failed to converge (status=1):\n",
      "STOP: TOTAL NO. of ITERATIONS REACHED LIMIT.\n",
      "\n",
      "Increase the number of iterations (max_iter) or scale the data as shown in:\n",
      "    https://scikit-learn.org/stable/modules/preprocessing.html\n",
      "Please also refer to the documentation for alternative solver options:\n",
      "    https://scikit-learn.org/stable/modules/linear_model.html#logistic-regression\n",
      "  extra_warning_msg=_LOGISTIC_SOLVER_CONVERGENCE_MSG)\n"
     ]
    },
    {
     "name": "stdout",
     "output_type": "stream",
     "text": [
      "Fit time: 916.527 / Predict time: 3.67 ---- Precision: 0.434 / Recall: 0.418 / Accuracy: 0.418\n"
     ]
    }
   ],
   "source": [
    "#Logistic Regression \n",
    "\n",
    "#Instantiate our model\n",
    "lr = LogisticRegression(max_iter = 100, solver = 'lbfgs')\n",
    "\n",
    "#Train our Model\n",
    "start = time.time()\n",
    "lr.fit(X_resampled_ros_tf, y_resampled_ros_tf)\n",
    "end = time.time()\n",
    "fit_time = (end - start)\n",
    "\n",
    "#Model Predict \n",
    "start = time.time()\n",
    "y_pred = lr.predict(X_resampled_ros_test_tf)\n",
    "end = time.time()\n",
    "pred_time = (end - start)\n",
    "\n",
    "#Model Scoring \n",
    "precision, recall, fscore, support = precision_recall_fscore_support(y_resampled_ros_test_tf, y_pred, average='macro')\n",
    "print('Fit time: {} / Predict time: {} ---- Precision: {} / Recall: {} / Accuracy: {}'.format(\n",
    "    round(fit_time, 3), round(pred_time, 3), round(precision, 3), round(recall, 3), round((y_pred==y_resampled_ros_test_tf).sum()/len(y_pred), 3)))"
   ]
  },
  {
   "cell_type": "markdown",
   "metadata": {},
   "source": [
    "##### Word2Vec"
   ]
  },
  {
   "cell_type": "code",
   "execution_count": 3,
   "metadata": {},
   "outputs": [],
   "source": [
    "from nltk.tokenize import word_tokenize\n",
    "tokenized_tweet = df.clean_text.apply(word_tokenize)"
   ]
  },
  {
   "cell_type": "code",
   "execution_count": 4,
   "metadata": {},
   "outputs": [
    {
     "data": {
      "text/plain": [
       "(14986172, 17727920)"
      ]
     },
     "execution_count": 4,
     "metadata": {},
     "output_type": "execute_result"
    }
   ],
   "source": [
    "model_w2v = gensim.models.Word2Vec(\n",
    "            tokenized_tweet,\n",
    "            size=6000, # desired no. of features/independent variables \n",
    "            window=3, # context window size\n",
    "            min_count=3,\n",
    "            sg = 1, # 1 for skip-gram model\n",
    "            seed = 77)\n",
    "\n",
    "model_w2v.train(tokenized_tweet, total_examples= len(df['clean_text']), epochs=20)"
   ]
  },
  {
   "cell_type": "code",
   "execution_count": 5,
   "metadata": {},
   "outputs": [
    {
     "data": {
      "text/plain": [
       "[('onkyo', 0.5513042211532593),\n",
       " ('hfplayer', 0.5392124652862549),\n",
       " ('khzbit', 0.5306228995323181),\n",
       " ('linemusic', 0.518783688545227),\n",
       " ('japantrip', 0.5057321190834045),\n",
       " ('japantravel', 0.5039234161376953),\n",
       " ('songsinfo', 0.495866596698761),\n",
       " ('deiscavaly', 0.48634207248687744),\n",
       " ('disneylandtokyo', 0.4860280156135559),\n",
       " ('disneysea', 0.4855746030807495)]"
      ]
     },
     "execution_count": 5,
     "metadata": {},
     "output_type": "execute_result"
    }
   ],
   "source": [
    "model_w2v.wv.most_similar(\"tokyo\")"
   ]
  },
  {
   "cell_type": "code",
   "execution_count": 6,
   "metadata": {},
   "outputs": [
    {
     "data": {
      "text/plain": [
       "[('frightful', 0.3735705614089966),\n",
       " ('downloaded', 0.3665778636932373),\n",
       " ('enjoyable', 0.36242324113845825),\n",
       " ('funner', 0.3620840013027191),\n",
       " ('teens', 0.36068132519721985),\n",
       " ('bestfriends', 0.35546189546585083),\n",
       " ('bff', 0.35439085960388184),\n",
       " ('inappropriate', 0.34669607877731323),\n",
       " ('lingering', 0.34374797344207764),\n",
       " ('cabalcade', 0.34368300437927246)]"
      ]
     },
     "execution_count": 6,
     "metadata": {},
     "output_type": "execute_result"
    }
   ],
   "source": [
    "model_w2v.wv.most_similar(\"fun\")"
   ]
  },
  {
   "cell_type": "code",
   "execution_count": 7,
   "metadata": {},
   "outputs": [
    {
     "data": {
      "text/plain": [
       "[('anaheimresort', 0.38957226276397705),\n",
       " ('internship', 0.38845300674438477),\n",
       " ('indigo', 0.3835405707359314),\n",
       " ('sanitation', 0.3835158348083496),\n",
       " ('kaboom', 0.37532806396484375),\n",
       " ('ymca', 0.37469249963760376),\n",
       " ('janitorial', 0.37304434180259705),\n",
       " ('disneycaliforniaadventurepark', 0.3703966736793518),\n",
       " ('disneydrinks', 0.36837852001190186),\n",
       " ('losangeles', 0.36001330614089966)]"
      ]
     },
     "execution_count": 7,
     "metadata": {},
     "output_type": "execute_result"
    }
   ],
   "source": [
    "model_w2v.wv.most_similar(\"anaheim\")"
   ]
  },
  {
   "cell_type": "code",
   "execution_count": 8,
   "metadata": {},
   "outputs": [
    {
     "data": {
      "text/plain": [
       "[('serotonin', 0.5254299640655518),\n",
       " ('rioter', 0.5173180103302002),\n",
       " ('ahah', 0.5021933317184448),\n",
       " ('sht', 0.5005996823310852),\n",
       " ('commie', 0.4991770386695862),\n",
       " ('hating', 0.49500101804733276),\n",
       " ('succession', 0.48815059661865234),\n",
       " ('yikes', 0.4785458743572235),\n",
       " ('chart', 0.47815006971359253),\n",
       " ('ghetto', 0.4774448275566101)]"
      ]
     },
     "execution_count": 8,
     "metadata": {},
     "output_type": "execute_result"
    }
   ],
   "source": [
    "model_w2v.wv.most_similar(\"boring\")"
   ]
  },
  {
   "cell_type": "code",
   "execution_count": 9,
   "metadata": {},
   "outputs": [
    {
     "data": {
      "text/plain": [
       "[('frizemedia', 0.43397533893585205),\n",
       " ('tkdl', 0.4317244291305542),\n",
       " ('familyvacay', 0.4214758276939392),\n",
       " ('disneyhotel', 0.4201451539993286),\n",
       " ('collectibles', 0.4172070324420929),\n",
       " ('twdc', 0.4154548943042755),\n",
       " ('disneyattractions', 0.4117432236671448),\n",
       " ('disneyaulani', 0.41010499000549316),\n",
       " ('disneystudios', 0.40937477350234985),\n",
       " ('instadisneyland', 0.40762388706207275)]"
      ]
     },
     "execution_count": 9,
     "metadata": {},
     "output_type": "execute_result"
    }
   ],
   "source": [
    "model_w2v.wv.most_similar(\"disney\")"
   ]
  },
  {
   "cell_type": "code",
   "execution_count": 10,
   "metadata": {},
   "outputs": [],
   "source": [
    "def word_vector(tokens, size):\n",
    "    vec = np.zeros(size).reshape((1, size))\n",
    "    count = 0.\n",
    "    for word in tokens:\n",
    "        try:\n",
    "            vec += model_w2v[word].reshape((1, size))\n",
    "            count += 1.\n",
    "        except KeyError: # handling the case where the token is not in vocabulary\n",
    "                         \n",
    "            continue\n",
    "    if count != 0:\n",
    "        vec /= count\n",
    "    return vec"
   ]
  },
  {
   "cell_type": "code",
   "execution_count": 12,
   "metadata": {},
   "outputs": [
    {
     "name": "stderr",
     "output_type": "stream",
     "text": [
      "/Users/justin/anaconda3/lib/python3.7/site-packages/ipykernel_launcher.py:6: DeprecationWarning: Call to deprecated `__getitem__` (Method will be removed in 4.0.0, use self.wv.__getitem__() instead).\n",
      "  \n"
     ]
    }
   ],
   "source": [
    "wordvec_arrays = np.zeros((len(tokenized_tweet), 6000))\n",
    "\n",
    "for i in range(len(tokenized_tweet)):\n",
    "    wordvec_arrays[i,:] = word_vector(tokenized_tweet[i], 6000)\n",
    "\n",
    "wordvec_df = pd.concat([df[['hash_count', 'emoji_count', 'anger','anticipation','disgust','fear',\n",
    "                                                       'joy', 'sadness', 'surprise', 'trust', 'punc_count',\n",
    "                                                       'tweet_len','cap_count']].reset_index(drop=True), \n",
    "           pd.DataFrame(wordvec_arrays)], axis=1)"
   ]
  },
  {
   "cell_type": "code",
   "execution_count": 13,
   "metadata": {},
   "outputs": [
    {
     "data": {
      "text/html": [
       "<div>\n",
       "<style scoped>\n",
       "    .dataframe tbody tr th:only-of-type {\n",
       "        vertical-align: middle;\n",
       "    }\n",
       "\n",
       "    .dataframe tbody tr th {\n",
       "        vertical-align: top;\n",
       "    }\n",
       "\n",
       "    .dataframe thead th {\n",
       "        text-align: right;\n",
       "    }\n",
       "</style>\n",
       "<table border=\"1\" class=\"dataframe\">\n",
       "  <thead>\n",
       "    <tr style=\"text-align: right;\">\n",
       "      <th></th>\n",
       "      <th>hash_count</th>\n",
       "      <th>emoji_count</th>\n",
       "      <th>anger</th>\n",
       "      <th>anticipation</th>\n",
       "      <th>disgust</th>\n",
       "      <th>fear</th>\n",
       "      <th>joy</th>\n",
       "      <th>sadness</th>\n",
       "      <th>surprise</th>\n",
       "      <th>trust</th>\n",
       "      <th>...</th>\n",
       "      <th>5990</th>\n",
       "      <th>5991</th>\n",
       "      <th>5992</th>\n",
       "      <th>5993</th>\n",
       "      <th>5994</th>\n",
       "      <th>5995</th>\n",
       "      <th>5996</th>\n",
       "      <th>5997</th>\n",
       "      <th>5998</th>\n",
       "      <th>5999</th>\n",
       "    </tr>\n",
       "  </thead>\n",
       "  <tbody>\n",
       "    <tr>\n",
       "      <th>0</th>\n",
       "      <td>1</td>\n",
       "      <td>0</td>\n",
       "      <td>0</td>\n",
       "      <td>0</td>\n",
       "      <td>0</td>\n",
       "      <td>0</td>\n",
       "      <td>0</td>\n",
       "      <td>0</td>\n",
       "      <td>0</td>\n",
       "      <td>0</td>\n",
       "      <td>...</td>\n",
       "      <td>-0.012626</td>\n",
       "      <td>0.021376</td>\n",
       "      <td>-0.035375</td>\n",
       "      <td>-0.011598</td>\n",
       "      <td>-0.052767</td>\n",
       "      <td>-0.019092</td>\n",
       "      <td>0.030323</td>\n",
       "      <td>0.021295</td>\n",
       "      <td>-0.012347</td>\n",
       "      <td>-0.062186</td>\n",
       "    </tr>\n",
       "    <tr>\n",
       "      <th>1</th>\n",
       "      <td>1</td>\n",
       "      <td>0</td>\n",
       "      <td>0</td>\n",
       "      <td>1</td>\n",
       "      <td>0</td>\n",
       "      <td>0</td>\n",
       "      <td>0</td>\n",
       "      <td>0</td>\n",
       "      <td>0</td>\n",
       "      <td>0</td>\n",
       "      <td>...</td>\n",
       "      <td>-0.019872</td>\n",
       "      <td>0.022338</td>\n",
       "      <td>-0.064997</td>\n",
       "      <td>-0.006185</td>\n",
       "      <td>-0.045894</td>\n",
       "      <td>-0.017409</td>\n",
       "      <td>-0.031949</td>\n",
       "      <td>-0.006251</td>\n",
       "      <td>-0.048054</td>\n",
       "      <td>-0.059388</td>\n",
       "    </tr>\n",
       "    <tr>\n",
       "      <th>2</th>\n",
       "      <td>0</td>\n",
       "      <td>0</td>\n",
       "      <td>0</td>\n",
       "      <td>0</td>\n",
       "      <td>0</td>\n",
       "      <td>0</td>\n",
       "      <td>0</td>\n",
       "      <td>0</td>\n",
       "      <td>0</td>\n",
       "      <td>0</td>\n",
       "      <td>...</td>\n",
       "      <td>-0.013231</td>\n",
       "      <td>0.066739</td>\n",
       "      <td>-0.037446</td>\n",
       "      <td>-0.027242</td>\n",
       "      <td>-0.011407</td>\n",
       "      <td>-0.040673</td>\n",
       "      <td>-0.021769</td>\n",
       "      <td>-0.016141</td>\n",
       "      <td>-0.035358</td>\n",
       "      <td>-0.044636</td>\n",
       "    </tr>\n",
       "    <tr>\n",
       "      <th>3</th>\n",
       "      <td>1</td>\n",
       "      <td>0</td>\n",
       "      <td>0</td>\n",
       "      <td>0</td>\n",
       "      <td>0</td>\n",
       "      <td>0</td>\n",
       "      <td>0</td>\n",
       "      <td>0</td>\n",
       "      <td>0</td>\n",
       "      <td>0</td>\n",
       "      <td>...</td>\n",
       "      <td>-0.000276</td>\n",
       "      <td>0.076972</td>\n",
       "      <td>-0.069938</td>\n",
       "      <td>-0.016650</td>\n",
       "      <td>-0.031137</td>\n",
       "      <td>-0.019091</td>\n",
       "      <td>-0.023551</td>\n",
       "      <td>0.019347</td>\n",
       "      <td>-0.054032</td>\n",
       "      <td>-0.010281</td>\n",
       "    </tr>\n",
       "    <tr>\n",
       "      <th>4</th>\n",
       "      <td>0</td>\n",
       "      <td>0</td>\n",
       "      <td>0</td>\n",
       "      <td>1</td>\n",
       "      <td>0</td>\n",
       "      <td>1</td>\n",
       "      <td>1</td>\n",
       "      <td>0</td>\n",
       "      <td>0</td>\n",
       "      <td>1</td>\n",
       "      <td>...</td>\n",
       "      <td>-0.059492</td>\n",
       "      <td>0.029682</td>\n",
       "      <td>-0.021310</td>\n",
       "      <td>0.016606</td>\n",
       "      <td>-0.001956</td>\n",
       "      <td>-0.053888</td>\n",
       "      <td>-0.049531</td>\n",
       "      <td>0.001596</td>\n",
       "      <td>-0.034105</td>\n",
       "      <td>-0.071249</td>\n",
       "    </tr>\n",
       "    <tr>\n",
       "      <th>...</th>\n",
       "      <td>...</td>\n",
       "      <td>...</td>\n",
       "      <td>...</td>\n",
       "      <td>...</td>\n",
       "      <td>...</td>\n",
       "      <td>...</td>\n",
       "      <td>...</td>\n",
       "      <td>...</td>\n",
       "      <td>...</td>\n",
       "      <td>...</td>\n",
       "      <td>...</td>\n",
       "      <td>...</td>\n",
       "      <td>...</td>\n",
       "      <td>...</td>\n",
       "      <td>...</td>\n",
       "      <td>...</td>\n",
       "      <td>...</td>\n",
       "      <td>...</td>\n",
       "      <td>...</td>\n",
       "      <td>...</td>\n",
       "      <td>...</td>\n",
       "    </tr>\n",
       "    <tr>\n",
       "      <th>87505</th>\n",
       "      <td>3</td>\n",
       "      <td>0</td>\n",
       "      <td>0</td>\n",
       "      <td>0</td>\n",
       "      <td>0</td>\n",
       "      <td>0</td>\n",
       "      <td>0</td>\n",
       "      <td>0</td>\n",
       "      <td>0</td>\n",
       "      <td>0</td>\n",
       "      <td>...</td>\n",
       "      <td>0.000276</td>\n",
       "      <td>0.042045</td>\n",
       "      <td>-0.041691</td>\n",
       "      <td>-0.013512</td>\n",
       "      <td>-0.022923</td>\n",
       "      <td>-0.019002</td>\n",
       "      <td>0.008835</td>\n",
       "      <td>0.012429</td>\n",
       "      <td>-0.050287</td>\n",
       "      <td>-0.027899</td>\n",
       "    </tr>\n",
       "    <tr>\n",
       "      <th>87506</th>\n",
       "      <td>1</td>\n",
       "      <td>1</td>\n",
       "      <td>1</td>\n",
       "      <td>2</td>\n",
       "      <td>0</td>\n",
       "      <td>1</td>\n",
       "      <td>4</td>\n",
       "      <td>1</td>\n",
       "      <td>4</td>\n",
       "      <td>4</td>\n",
       "      <td>...</td>\n",
       "      <td>-0.042470</td>\n",
       "      <td>0.023806</td>\n",
       "      <td>0.016434</td>\n",
       "      <td>0.000729</td>\n",
       "      <td>-0.064327</td>\n",
       "      <td>-0.006179</td>\n",
       "      <td>-0.038079</td>\n",
       "      <td>0.033974</td>\n",
       "      <td>0.025956</td>\n",
       "      <td>-0.083662</td>\n",
       "    </tr>\n",
       "    <tr>\n",
       "      <th>87507</th>\n",
       "      <td>0</td>\n",
       "      <td>0</td>\n",
       "      <td>0</td>\n",
       "      <td>0</td>\n",
       "      <td>0</td>\n",
       "      <td>0</td>\n",
       "      <td>0</td>\n",
       "      <td>0</td>\n",
       "      <td>0</td>\n",
       "      <td>0</td>\n",
       "      <td>...</td>\n",
       "      <td>0.065764</td>\n",
       "      <td>-0.002539</td>\n",
       "      <td>-0.028478</td>\n",
       "      <td>0.038716</td>\n",
       "      <td>0.022798</td>\n",
       "      <td>-0.147807</td>\n",
       "      <td>0.012323</td>\n",
       "      <td>0.000423</td>\n",
       "      <td>0.011335</td>\n",
       "      <td>-0.070302</td>\n",
       "    </tr>\n",
       "    <tr>\n",
       "      <th>87508</th>\n",
       "      <td>0</td>\n",
       "      <td>0</td>\n",
       "      <td>0</td>\n",
       "      <td>1</td>\n",
       "      <td>0</td>\n",
       "      <td>0</td>\n",
       "      <td>1</td>\n",
       "      <td>0</td>\n",
       "      <td>0</td>\n",
       "      <td>0</td>\n",
       "      <td>...</td>\n",
       "      <td>-0.045438</td>\n",
       "      <td>0.017635</td>\n",
       "      <td>0.001580</td>\n",
       "      <td>-0.016274</td>\n",
       "      <td>0.011161</td>\n",
       "      <td>-0.033321</td>\n",
       "      <td>-0.003469</td>\n",
       "      <td>0.014469</td>\n",
       "      <td>-0.046864</td>\n",
       "      <td>-0.050268</td>\n",
       "    </tr>\n",
       "    <tr>\n",
       "      <th>87509</th>\n",
       "      <td>0</td>\n",
       "      <td>2</td>\n",
       "      <td>1</td>\n",
       "      <td>0</td>\n",
       "      <td>1</td>\n",
       "      <td>0</td>\n",
       "      <td>0</td>\n",
       "      <td>0</td>\n",
       "      <td>0</td>\n",
       "      <td>0</td>\n",
       "      <td>...</td>\n",
       "      <td>0.047866</td>\n",
       "      <td>0.030095</td>\n",
       "      <td>0.019994</td>\n",
       "      <td>0.018602</td>\n",
       "      <td>0.012206</td>\n",
       "      <td>-0.012468</td>\n",
       "      <td>-0.010946</td>\n",
       "      <td>-0.028381</td>\n",
       "      <td>0.009911</td>\n",
       "      <td>-0.059160</td>\n",
       "    </tr>\n",
       "  </tbody>\n",
       "</table>\n",
       "<p>87510 rows × 6013 columns</p>\n",
       "</div>"
      ],
      "text/plain": [
       "       hash_count  emoji_count  anger  anticipation  disgust  fear  joy  \\\n",
       "0               1            0      0             0        0     0    0   \n",
       "1               1            0      0             1        0     0    0   \n",
       "2               0            0      0             0        0     0    0   \n",
       "3               1            0      0             0        0     0    0   \n",
       "4               0            0      0             1        0     1    1   \n",
       "...           ...          ...    ...           ...      ...   ...  ...   \n",
       "87505           3            0      0             0        0     0    0   \n",
       "87506           1            1      1             2        0     1    4   \n",
       "87507           0            0      0             0        0     0    0   \n",
       "87508           0            0      0             1        0     0    1   \n",
       "87509           0            2      1             0        1     0    0   \n",
       "\n",
       "       sadness  surprise  trust  ...      5990      5991      5992      5993  \\\n",
       "0            0         0      0  ... -0.012626  0.021376 -0.035375 -0.011598   \n",
       "1            0         0      0  ... -0.019872  0.022338 -0.064997 -0.006185   \n",
       "2            0         0      0  ... -0.013231  0.066739 -0.037446 -0.027242   \n",
       "3            0         0      0  ... -0.000276  0.076972 -0.069938 -0.016650   \n",
       "4            0         0      1  ... -0.059492  0.029682 -0.021310  0.016606   \n",
       "...        ...       ...    ...  ...       ...       ...       ...       ...   \n",
       "87505        0         0      0  ...  0.000276  0.042045 -0.041691 -0.013512   \n",
       "87506        1         4      4  ... -0.042470  0.023806  0.016434  0.000729   \n",
       "87507        0         0      0  ...  0.065764 -0.002539 -0.028478  0.038716   \n",
       "87508        0         0      0  ... -0.045438  0.017635  0.001580 -0.016274   \n",
       "87509        0         0      0  ...  0.047866  0.030095  0.019994  0.018602   \n",
       "\n",
       "           5994      5995      5996      5997      5998      5999  \n",
       "0     -0.052767 -0.019092  0.030323  0.021295 -0.012347 -0.062186  \n",
       "1     -0.045894 -0.017409 -0.031949 -0.006251 -0.048054 -0.059388  \n",
       "2     -0.011407 -0.040673 -0.021769 -0.016141 -0.035358 -0.044636  \n",
       "3     -0.031137 -0.019091 -0.023551  0.019347 -0.054032 -0.010281  \n",
       "4     -0.001956 -0.053888 -0.049531  0.001596 -0.034105 -0.071249  \n",
       "...         ...       ...       ...       ...       ...       ...  \n",
       "87505 -0.022923 -0.019002  0.008835  0.012429 -0.050287 -0.027899  \n",
       "87506 -0.064327 -0.006179 -0.038079  0.033974  0.025956 -0.083662  \n",
       "87507  0.022798 -0.147807  0.012323  0.000423  0.011335 -0.070302  \n",
       "87508  0.011161 -0.033321 -0.003469  0.014469 -0.046864 -0.050268  \n",
       "87509  0.012206 -0.012468 -0.010946 -0.028381  0.009911 -0.059160  \n",
       "\n",
       "[87510 rows x 6013 columns]"
      ]
     },
     "execution_count": 13,
     "metadata": {},
     "output_type": "execute_result"
    }
   ],
   "source": [
    "wordvec_df"
   ]
  },
  {
   "cell_type": "code",
   "execution_count": 14,
   "metadata": {},
   "outputs": [],
   "source": [
    "# splitting data into training and validation set\n",
    "xtrain_bow, xvalid_bow, ytrain, yvalid = train_test_split(wordvec_df, df['label'],  \n",
    "                                                          random_state=77, \n",
    "                                                          test_size=0.2)"
   ]
  },
  {
   "cell_type": "code",
   "execution_count": 15,
   "metadata": {},
   "outputs": [
    {
     "name": "stdout",
     "output_type": "stream",
     "text": [
      "[(0, 23522), (1, 23522), (2, 23522), (3, 23522), (4, 23522), (5, 23522)]\n"
     ]
    }
   ],
   "source": [
    "#Balance the Data \n",
    "ros = RandomOverSampler(random_state=77) \n",
    "X_resampled_w2vec, y_resampled_w2vec = ros.fit_resample(xtrain_bow.values, ytrain.values)\n",
    "print(sorted(Counter(y_resampled_w2vec).items()))"
   ]
  },
  {
   "cell_type": "code",
   "execution_count": 16,
   "metadata": {},
   "outputs": [
    {
     "name": "stdout",
     "output_type": "stream",
     "text": [
      "[(0, 5982), (1, 5982), (2, 5982), (3, 5982), (4, 5982), (5, 5982)]\n"
     ]
    }
   ],
   "source": [
    "X_resampled_w2vec_t, y_resampled_w2vec_t = ros.fit_resample(xvalid_bow.values, yvalid.values)\n",
    "print(sorted(Counter(y_resampled_w2vec_t).items()))"
   ]
  },
  {
   "cell_type": "code",
   "execution_count": 17,
   "metadata": {},
   "outputs": [
    {
     "name": "stdout",
     "output_type": "stream",
     "text": [
      "Fit time: 187.561 / Predict time: 5.789 ---- Precision: 0.307 / Recall: 0.269 / Accuracy: 0.269\n"
     ]
    }
   ],
   "source": [
    "#Random Forest\n",
    "\n",
    "#Instantiate our model \n",
    "rf = RandomForestClassifier(n_estimators=50, max_depth=1000, n_jobs=-1)\n",
    "\n",
    "#Model Fit \n",
    "start = time.time()\n",
    "rf.fit(X_resampled_w2vec, y_resampled_w2vec)\n",
    "end = time.time()\n",
    "fit_time = (end - start)\n",
    "\n",
    "#Model Predict \n",
    "start = time.time()\n",
    "y_pred = rf.predict(X_resampled_w2vec_t)\n",
    "end = time.time()\n",
    "pred_time = (end - start)\n",
    "\n",
    "#Model Scoring \n",
    "precision, recall, fscore, support = precision_recall_fscore_support(y_resampled_w2vec_t, y_pred, average='macro')\n",
    "print('Fit time: {} / Predict time: {} ---- Precision: {} / Recall: {} / Accuracy: {}'.format(\n",
    "    round(fit_time, 3), round(pred_time, 3), round(precision, 3), round(recall, 3), round((y_pred==y_resampled_w2vec_t).sum()/len(y_pred), 3)))"
   ]
  },
  {
   "cell_type": "code",
   "execution_count": 18,
   "metadata": {},
   "outputs": [
    {
     "data": {
      "text/plain": [
       "[(0.013440041812033496, 'tweet_len'),\n",
       " (0.012709752733360093, 'hash_count'),\n",
       " (0.008351145987545779, 'joy'),\n",
       " (0.007617788509051857, 'cap_count'),\n",
       " (0.007289074390486536, 'sadness'),\n",
       " (0.007270841433428673, 'punc_count'),\n",
       " (0.007083272958571445, 'fear'),\n",
       " (0.005476012467082672, 'anger'),\n",
       " (0.004971587926797237, 'anticipation'),\n",
       " (0.004663655134884304, 'disgust'),\n",
       " (0.0042407097073909675, 'trust'),\n",
       " (0.0030074068879701503, 'surprise'),\n",
       " (0.0029222317462797797, 'emoji_count'),\n",
       " (0.00023223956377370813, 5374),\n",
       " (0.00022781290631154736, 1516),\n",
       " (0.00022472329630072795, 1626),\n",
       " (0.00022303052532360735, 3291),\n",
       " (0.0002170918237977402, 3744),\n",
       " (0.00021654404155221668, 3903),\n",
       " (0.00021648838819509023, 4898)]"
      ]
     },
     "execution_count": 18,
     "metadata": {},
     "output_type": "execute_result"
    }
   ],
   "source": [
    "#Random Forest tells our Feature Importances\n",
    "importances = rf.feature_importances_\n",
    "(sorted(zip(importances, xtrain_bow.columns), reverse=True))[0:20]"
   ]
  },
  {
   "cell_type": "code",
   "execution_count": null,
   "metadata": {},
   "outputs": [],
   "source": [
    "#Tried Gradientboosting Classifier since Multinomial Bayes doesn't accept negative values \n",
    "\n",
    "#Instantiate our model \n",
    "gb_clf = GradientBoostingClassifier()\n",
    "\n",
    "#Train our Model \n",
    "start = time.time()\n",
    "gb_clf.fit(X_resampled_w2vec, y_resampled_w2vec)\n",
    "end = time.time()\n",
    "fit_time = (end - start)\n",
    "\n",
    "#Model Predict \n",
    "start = time.time()\n",
    "y_pred = gb_clf.predict(X_resampled_w2vec_t)\n",
    "end = time.time()\n",
    "pred_time = (end - start)\n",
    "\n",
    "#Model Scoring \n",
    "precision, recall, fscore, support = precision_recall_fscore_support(y_resampled_w2vec_t, y_pred, average='macro')\n",
    "print('Fit time: {} / Predict time: {} ---- Precision: {} / Recall: {} / Accuracy: {}'.format(\n",
    "    round(fit_time, 3), round(pred_time, 3), round(precision, 3), round(recall, 3), round((y_pred==y_resampled_w2vec_t).sum()/len(y_pred), 3)))"
   ]
  },
  {
   "cell_type": "code",
   "execution_count": 19,
   "metadata": {},
   "outputs": [
    {
     "name": "stderr",
     "output_type": "stream",
     "text": [
      "/Users/justin/anaconda3/lib/python3.7/site-packages/sklearn/linear_model/_logistic.py:940: ConvergenceWarning: lbfgs failed to converge (status=1):\n",
      "STOP: TOTAL NO. of ITERATIONS REACHED LIMIT.\n",
      "\n",
      "Increase the number of iterations (max_iter) or scale the data as shown in:\n",
      "    https://scikit-learn.org/stable/modules/preprocessing.html\n",
      "Please also refer to the documentation for alternative solver options:\n",
      "    https://scikit-learn.org/stable/modules/linear_model.html#logistic-regression\n",
      "  extra_warning_msg=_LOGISTIC_SOLVER_CONVERGENCE_MSG)\n"
     ]
    },
    {
     "name": "stdout",
     "output_type": "stream",
     "text": [
      "Fit time: 120.674 / Predict time: 0.337 ---- Precision: 0.438 / Recall: 0.419 / Accuracy: 0.419\n"
     ]
    }
   ],
   "source": [
    "#Logistic Regression \n",
    "\n",
    "#Instantiate our model\n",
    "lr = LogisticRegression(max_iter = 100, solver = 'lbfgs')\n",
    "\n",
    "#Train our Model\n",
    "start = time.time()\n",
    "lr.fit(X_resampled_w2vec, y_resampled_w2vec)\n",
    "end = time.time()\n",
    "fit_time = (end - start)\n",
    "\n",
    "#Model Predict \n",
    "start = time.time()\n",
    "y_pred = lr.predict(X_resampled_w2vec_t)\n",
    "end = time.time()\n",
    "pred_time = (end - start)\n",
    "\n",
    "#Model Scoring \n",
    "precision, recall, fscore, support = precision_recall_fscore_support(y_resampled_w2vec_t, y_pred, average='macro')\n",
    "print('Fit time: {} / Predict time: {} ---- Precision: {} / Recall: {} / Accuracy: {}'.format(\n",
    "    round(fit_time, 3), round(pred_time, 3), round(precision, 3), round(recall, 3), round((y_pred==y_resampled_w2vec_t).sum()/len(y_pred), 3)))"
   ]
  },
  {
   "cell_type": "code",
   "execution_count": null,
   "metadata": {},
   "outputs": [],
   "source": []
  }
 ],
 "metadata": {
  "kernelspec": {
   "display_name": "Python 3",
   "language": "python",
   "name": "python3"
  },
  "language_info": {
   "codemirror_mode": {
    "name": "ipython",
    "version": 3
   },
   "file_extension": ".py",
   "mimetype": "text/x-python",
   "name": "python",
   "nbconvert_exporter": "python",
   "pygments_lexer": "ipython3",
   "version": "3.7.0"
  }
 },
 "nbformat": 4,
 "nbformat_minor": 2
}
